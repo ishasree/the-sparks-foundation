{
 "cells": [
  {
   "cell_type": "markdown",
   "id": "6163dae1",
   "metadata": {},
   "source": [
    "# The Sparks Foundation-GRIP Sept2021"
   ]
  },
  {
   "cell_type": "markdown",
   "id": "37fa2f88",
   "metadata": {},
   "source": [
    "Ishasree Mukherjee"
   ]
  },
  {
   "cell_type": "markdown",
   "id": "b91be272",
   "metadata": {},
   "source": [
    "Data Science and Business Analytics Intern"
   ]
  },
  {
   "cell_type": "markdown",
   "id": "17e84716",
   "metadata": {},
   "source": [
    "# Task1: Prediction using supervised ML"
   ]
  },
  {
   "cell_type": "markdown",
   "id": "425b51d6",
   "metadata": {},
   "source": [
    "We have to predict the perecntage of a student based on the number of study hours and also predict the score of a student if that student studied for 9.25 hours per day.\n",
    "\n",
    "The dataset contains two varaibles: Hours and Scores. "
   ]
  },
  {
   "cell_type": "markdown",
   "id": "0fdc4ec0",
   "metadata": {},
   "source": [
    "Import the necessary libraries"
   ]
  },
  {
   "cell_type": "code",
   "execution_count": 1,
   "id": "432da5b3",
   "metadata": {},
   "outputs": [],
   "source": [
    "import pandas as pd\n",
    "import numpy as np\n",
    "import matplotlib.pyplot as plt\n"
   ]
  },
  {
   "cell_type": "markdown",
   "id": "096f9d1a",
   "metadata": {},
   "source": [
    "Insert the dataset provided"
   ]
  },
  {
   "cell_type": "code",
   "execution_count": 2,
   "id": "14c0e278",
   "metadata": {},
   "outputs": [
    {
     "data": {
      "text/html": [
       "<div>\n",
       "<style scoped>\n",
       "    .dataframe tbody tr th:only-of-type {\n",
       "        vertical-align: middle;\n",
       "    }\n",
       "\n",
       "    .dataframe tbody tr th {\n",
       "        vertical-align: top;\n",
       "    }\n",
       "\n",
       "    .dataframe thead th {\n",
       "        text-align: right;\n",
       "    }\n",
       "</style>\n",
       "<table border=\"1\" class=\"dataframe\">\n",
       "  <thead>\n",
       "    <tr style=\"text-align: right;\">\n",
       "      <th></th>\n",
       "      <th>Hours</th>\n",
       "      <th>Scores</th>\n",
       "    </tr>\n",
       "  </thead>\n",
       "  <tbody>\n",
       "    <tr>\n",
       "      <th>0</th>\n",
       "      <td>2.5</td>\n",
       "      <td>21</td>\n",
       "    </tr>\n",
       "    <tr>\n",
       "      <th>1</th>\n",
       "      <td>5.1</td>\n",
       "      <td>47</td>\n",
       "    </tr>\n",
       "    <tr>\n",
       "      <th>2</th>\n",
       "      <td>3.2</td>\n",
       "      <td>27</td>\n",
       "    </tr>\n",
       "    <tr>\n",
       "      <th>3</th>\n",
       "      <td>8.5</td>\n",
       "      <td>75</td>\n",
       "    </tr>\n",
       "    <tr>\n",
       "      <th>4</th>\n",
       "      <td>3.5</td>\n",
       "      <td>30</td>\n",
       "    </tr>\n",
       "  </tbody>\n",
       "</table>\n",
       "</div>"
      ],
      "text/plain": [
       "   Hours  Scores\n",
       "0    2.5      21\n",
       "1    5.1      47\n",
       "2    3.2      27\n",
       "3    8.5      75\n",
       "4    3.5      30"
      ]
     },
     "execution_count": 2,
     "metadata": {},
     "output_type": "execute_result"
    }
   ],
   "source": [
    "dataset = \"http://bit.ly/w-data\"\n",
    "data = pd.read_csv(dataset)\n",
    "data.head() # to check the top 5 rows"
   ]
  },
  {
   "cell_type": "code",
   "execution_count": 3,
   "id": "45c7a779",
   "metadata": {},
   "outputs": [
    {
     "data": {
      "text/plain": [
       "(25, 2)"
      ]
     },
     "execution_count": 3,
     "metadata": {},
     "output_type": "execute_result"
    }
   ],
   "source": [
    "data.shape  # to view the shape, which means the number of rows and columns"
   ]
  },
  {
   "cell_type": "markdown",
   "id": "f096887c",
   "metadata": {},
   "source": [
    "To check for null values or any missing data present"
   ]
  },
  {
   "cell_type": "code",
   "execution_count": 4,
   "id": "509fd081",
   "metadata": {},
   "outputs": [
    {
     "name": "stdout",
     "output_type": "stream",
     "text": [
      "<class 'pandas.core.frame.DataFrame'>\n",
      "RangeIndex: 25 entries, 0 to 24\n",
      "Data columns (total 2 columns):\n",
      " #   Column  Non-Null Count  Dtype  \n",
      "---  ------  --------------  -----  \n",
      " 0   Hours   25 non-null     float64\n",
      " 1   Scores  25 non-null     int64  \n",
      "dtypes: float64(1), int64(1)\n",
      "memory usage: 528.0 bytes\n"
     ]
    }
   ],
   "source": [
    "data.info()"
   ]
  },
  {
   "cell_type": "markdown",
   "id": "d72f253a",
   "metadata": {},
   "source": [
    "To check for mean, standard deviation, minimum and maximum values, different quartiles"
   ]
  },
  {
   "cell_type": "code",
   "execution_count": 5,
   "id": "0f5656f5",
   "metadata": {},
   "outputs": [
    {
     "data": {
      "text/html": [
       "<div>\n",
       "<style scoped>\n",
       "    .dataframe tbody tr th:only-of-type {\n",
       "        vertical-align: middle;\n",
       "    }\n",
       "\n",
       "    .dataframe tbody tr th {\n",
       "        vertical-align: top;\n",
       "    }\n",
       "\n",
       "    .dataframe thead th {\n",
       "        text-align: right;\n",
       "    }\n",
       "</style>\n",
       "<table border=\"1\" class=\"dataframe\">\n",
       "  <thead>\n",
       "    <tr style=\"text-align: right;\">\n",
       "      <th></th>\n",
       "      <th>Hours</th>\n",
       "      <th>Scores</th>\n",
       "    </tr>\n",
       "  </thead>\n",
       "  <tbody>\n",
       "    <tr>\n",
       "      <th>count</th>\n",
       "      <td>25.000000</td>\n",
       "      <td>25.000000</td>\n",
       "    </tr>\n",
       "    <tr>\n",
       "      <th>mean</th>\n",
       "      <td>5.012000</td>\n",
       "      <td>51.480000</td>\n",
       "    </tr>\n",
       "    <tr>\n",
       "      <th>std</th>\n",
       "      <td>2.525094</td>\n",
       "      <td>25.286887</td>\n",
       "    </tr>\n",
       "    <tr>\n",
       "      <th>min</th>\n",
       "      <td>1.100000</td>\n",
       "      <td>17.000000</td>\n",
       "    </tr>\n",
       "    <tr>\n",
       "      <th>25%</th>\n",
       "      <td>2.700000</td>\n",
       "      <td>30.000000</td>\n",
       "    </tr>\n",
       "    <tr>\n",
       "      <th>50%</th>\n",
       "      <td>4.800000</td>\n",
       "      <td>47.000000</td>\n",
       "    </tr>\n",
       "    <tr>\n",
       "      <th>75%</th>\n",
       "      <td>7.400000</td>\n",
       "      <td>75.000000</td>\n",
       "    </tr>\n",
       "    <tr>\n",
       "      <th>max</th>\n",
       "      <td>9.200000</td>\n",
       "      <td>95.000000</td>\n",
       "    </tr>\n",
       "  </tbody>\n",
       "</table>\n",
       "</div>"
      ],
      "text/plain": [
       "           Hours     Scores\n",
       "count  25.000000  25.000000\n",
       "mean    5.012000  51.480000\n",
       "std     2.525094  25.286887\n",
       "min     1.100000  17.000000\n",
       "25%     2.700000  30.000000\n",
       "50%     4.800000  47.000000\n",
       "75%     7.400000  75.000000\n",
       "max     9.200000  95.000000"
      ]
     },
     "execution_count": 5,
     "metadata": {},
     "output_type": "execute_result"
    }
   ],
   "source": [
    "data.describe()"
   ]
  },
  {
   "cell_type": "markdown",
   "id": "80394745",
   "metadata": {},
   "source": [
    "For visualization of the data"
   ]
  },
  {
   "cell_type": "code",
   "execution_count": 6,
   "id": "ad6c3815",
   "metadata": {},
   "outputs": [
    {
     "data": {
      "image/png": "[encoded data removed]",
      "text/plain": [
       "<Figure size 432x288 with 1 Axes>"
      ]
     },
     "metadata": {
      "needs_background": "light"
     },
     "output_type": "display_data"
    }
   ],
   "source": [
    "import seaborn as sns\n",
    "sns.scatterplot(x=data[\"Hours\"], y=data[\"Scores\"]);  # to plot the data"
   ]
  },
  {
   "cell_type": "markdown",
   "id": "7ba85add",
   "metadata": {},
   "source": [
    "From the above graph, we can clearly see that the relationship is linear."
   ]
  },
  {
   "cell_type": "code",
   "execution_count": 8,
   "id": "ef846f40",
   "metadata": {},
   "outputs": [
    {
     "data": {
      "image/png": "[encoded data removed]",
      "text/plain": [
       "<Figure size 432x288 with 1 Axes>"
      ]
     },
     "metadata": {
      "needs_background": "light"
     },
     "output_type": "display_data"
    }
   ],
   "source": [
    "sns.regplot(x=data[\"Hours\"], y=data[\"Scores\"]); # presenting the regression plot "
   ]
  },
  {
   "cell_type": "markdown",
   "id": "989fd09b",
   "metadata": {},
   "source": [
    "To separate feature and target"
   ]
  },
  {
   "cell_type": "code",
   "execution_count": 21,
   "id": "cae92674",
   "metadata": {},
   "outputs": [],
   "source": [
    "x= data[[\"Hours\"]]\n",
    "y= data[\"Scores\"]"
   ]
  },
  {
   "cell_type": "markdown",
   "id": "0a903fc9",
   "metadata": {},
   "source": [
    "Train-Test Split"
   ]
  },
  {
   "cell_type": "code",
   "execution_count": 22,
   "id": "416a822e",
   "metadata": {},
   "outputs": [],
   "source": [
    "from sklearn.model_selection import train_test_split\n",
    "train_x, val_x, train_y, val_y = train_test_split(x, y, random_state=0)"
   ]
  },
  {
   "cell_type": "markdown",
   "id": "dd245dc7",
   "metadata": {},
   "source": [
    "To build the model"
   ]
  },
  {
   "cell_type": "code",
   "execution_count": 24,
   "id": "55656592",
   "metadata": {},
   "outputs": [],
   "source": [
    "from sklearn.linear_model import LinearRegression\n",
    "\n",
    "regressor= LinearRegression()"
   ]
  },
  {
   "cell_type": "code",
   "execution_count": 25,
   "id": "a8cc31b1",
   "metadata": {},
   "outputs": [
    {
     "data": {
      "text/plain": [
       "LinearRegression()"
      ]
     },
     "execution_count": 25,
     "metadata": {},
     "output_type": "execute_result"
    }
   ],
   "source": [
    "regressor.fit(train_x, train_y) # to train the model"
   ]
  },
  {
   "cell_type": "markdown",
   "id": "7d257c68",
   "metadata": {},
   "source": [
    "finding the coefficient and intercept values of the regression"
   ]
  },
  {
   "cell_type": "code",
   "execution_count": 26,
   "id": "4ad1ff93",
   "metadata": {},
   "outputs": [
    {
     "data": {
      "text/plain": [
       "(array([9.94167834]), 1.932204253151646)"
      ]
     },
     "execution_count": 26,
     "metadata": {},
     "output_type": "execute_result"
    }
   ],
   "source": [
    "regressor.coef_, regressor.intercept_"
   ]
  },
  {
   "cell_type": "code",
   "execution_count": 27,
   "id": "39eef583",
   "metadata": {},
   "outputs": [],
   "source": [
    "pred_y = regressor.predict(val_x)\n"
   ]
  },
  {
   "cell_type": "markdown",
   "id": "3ccc4b9b",
   "metadata": {},
   "source": [
    "To compare actual and predicted values"
   ]
  },
  {
   "cell_type": "code",
   "execution_count": 28,
   "id": "85e10053",
   "metadata": {},
   "outputs": [
    {
     "data": {
      "text/html": [
       "<div>\n",
       "<style scoped>\n",
       "    .dataframe tbody tr th:only-of-type {\n",
       "        vertical-align: middle;\n",
       "    }\n",
       "\n",
       "    .dataframe tbody tr th {\n",
       "        vertical-align: top;\n",
       "    }\n",
       "\n",
       "    .dataframe thead th {\n",
       "        text-align: right;\n",
       "    }\n",
       "</style>\n",
       "<table border=\"1\" class=\"dataframe\">\n",
       "  <thead>\n",
       "    <tr style=\"text-align: right;\">\n",
       "      <th></th>\n",
       "      <th>Actual</th>\n",
       "      <th>Predicted</th>\n",
       "    </tr>\n",
       "  </thead>\n",
       "  <tbody>\n",
       "    <tr>\n",
       "      <th>5</th>\n",
       "      <td>20</td>\n",
       "      <td>16.844722</td>\n",
       "    </tr>\n",
       "    <tr>\n",
       "      <th>2</th>\n",
       "      <td>27</td>\n",
       "      <td>33.745575</td>\n",
       "    </tr>\n",
       "    <tr>\n",
       "      <th>19</th>\n",
       "      <td>69</td>\n",
       "      <td>75.500624</td>\n",
       "    </tr>\n",
       "    <tr>\n",
       "      <th>16</th>\n",
       "      <td>30</td>\n",
       "      <td>26.786400</td>\n",
       "    </tr>\n",
       "    <tr>\n",
       "      <th>11</th>\n",
       "      <td>62</td>\n",
       "      <td>60.588106</td>\n",
       "    </tr>\n",
       "    <tr>\n",
       "      <th>22</th>\n",
       "      <td>35</td>\n",
       "      <td>39.710582</td>\n",
       "    </tr>\n",
       "    <tr>\n",
       "      <th>17</th>\n",
       "      <td>24</td>\n",
       "      <td>20.821393</td>\n",
       "    </tr>\n",
       "  </tbody>\n",
       "</table>\n",
       "</div>"
      ],
      "text/plain": [
       "    Actual  Predicted\n",
       "5       20  16.844722\n",
       "2       27  33.745575\n",
       "19      69  75.500624\n",
       "16      30  26.786400\n",
       "11      62  60.588106\n",
       "22      35  39.710582\n",
       "17      24  20.821393"
      ]
     },
     "execution_count": 28,
     "metadata": {},
     "output_type": "execute_result"
    }
   ],
   "source": [
    "pd.DataFrame({\"Actual\": val_y, \"Predicted\": pred_y})"
   ]
  },
  {
   "cell_type": "markdown",
   "id": "ffd9147c",
   "metadata": {},
   "source": [
    "For Actual vs Predicted distribution plot"
   ]
  },
  {
   "cell_type": "code",
   "execution_count": 29,
   "id": "332cea88",
   "metadata": {},
   "outputs": [
    {
     "data": {
      "image/png": "[encoded data removed]",
      "text/plain": [
       "<Figure size 432x288 with 1 Axes>"
      ]
     },
     "metadata": {
      "needs_background": "light"
     },
     "output_type": "display_data"
    }
   ],
   "source": [
    "sns.kdeplot(pred_y, label=\"Predicted\", shade= True);\n",
    "sns.kdeplot(data= val_y, label=\"Actual\", shade= True);"
   ]
  },
  {
   "cell_type": "markdown",
   "id": "a3f5f1db",
   "metadata": {},
   "source": [
    "From the distribution plot, the orange line represents Actual and the blue line represents Predicted."
   ]
  },
  {
   "cell_type": "code",
   "execution_count": 30,
   "id": "1a60192c",
   "metadata": {},
   "outputs": [
    {
     "name": "stdout",
     "output_type": "stream",
     "text": [
      "Train accuracy: 0.9484509249326872 Test accuracy: 0.9367661043365055\n"
     ]
    }
   ],
   "source": [
    "print(\"Train accuracy:\", regressor.score(train_x, train_y), \"Test accuracy:\", regressor.score(val_x, val_y))"
   ]
  },
  {
   "cell_type": "markdown",
   "id": "f6bcd764",
   "metadata": {},
   "source": [
    "To predict the score of student studying 9.25 hours per day"
   ]
  },
  {
   "cell_type": "code",
   "execution_count": 31,
   "id": "07c60ab6",
   "metadata": {},
   "outputs": [
    {
     "name": "stdout",
     "output_type": "stream",
     "text": [
      "A student who studies 9.25 hours is estimated to score 93.89272889341655\n"
     ]
    }
   ],
   "source": [
    "h =[[9.25]]\n",
    "s = regressor.predict(h)\n",
    "print(\"A student who studies\", h[0][0], \"hours is estimated to score\", s[0])"
   ]
  },
  {
   "cell_type": "code",
   "execution_count": null,
   "id": "0f374b8b",
   "metadata": {},
   "outputs": [],
   "source": []
  }
 ],
 "metadata": {
  "kernelspec": {
   "display_name": "Python 3",
   "language": "python",
   "name": "python3"
  },
  "language_info": {
   "codemirror_mode": {
    "name": "ipython",
    "version": 3
   },
   "file_extension": ".py",
   "mimetype": "text/x-python",
   "name": "python",
   "nbconvert_exporter": "python",
   "pygments_lexer": "ipython3",
   "version": "3.8.8"
  }
 },
 "nbformat": 4,
 "nbformat_minor": 5
}
